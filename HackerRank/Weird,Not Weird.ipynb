{
 "cells": [
  {
   "cell_type": "markdown",
   "id": "2d2285f0-b172-47f8-9085-e42abe62cc60",
   "metadata": {},
   "source": [
    "# Task"
   ]
  },
  {
   "cell_type": "code",
   "execution_count": 1,
   "id": "9ddac0ce-5b96-4ba6-b323-9950e4812a43",
   "metadata": {},
   "outputs": [],
   "source": [
    "#Given an integer,n, perform the following conditional actions:\n",
    "\n",
    "#If n is odd, print Weird\n",
    "#If n is even and in the inclusive range of 2 to 5, print Not Weird\n",
    "#If n is even and in the inclusive range of 6 to 20, print Weird\n",
    "#If n is even and greater than 20, print Not Weird\n",
    "\n",
    "#Input Format\n",
    "\n",
    "#A single line containing a positive integer,n.\n",
    "\n",
    "#Output Format\n",
    "\n",
    "#Print Weird if the number is weird. Otherwise, print Not Weird.\n"
   ]
  },
  {
   "cell_type": "code",
   "execution_count": 2,
   "id": "a40f3eac-d0bf-48c7-9862-b677d75c061d",
   "metadata": {},
   "outputs": [],
   "source": [
    "# 3 -------> weird\n",
    "# 24------->Notweird"
   ]
  },
  {
   "cell_type": "code",
   "execution_count": 3,
   "id": "8b6bf755-985a-4937-afc1-35880b0eb366",
   "metadata": {},
   "outputs": [
    {
     "name": "stdin",
     "output_type": "stream",
     "text": [
      " 24\n"
     ]
    },
    {
     "name": "stdout",
     "output_type": "stream",
     "text": [
      "Not Weird\n"
     ]
    }
   ],
   "source": [
    "num = int(input())\n",
    "if num%2 != 0:\n",
    "    print(\"Weird\")\n",
    "else:\n",
    "    if num>=2 and num<=5:\n",
    "        print(\"Not Weird\")\n",
    "    elif num>=6 and num<=20:\n",
    "        print(\"Weird\")\n",
    "    else:\n",
    "        print(\"Not Weird\")    "
   ]
  },
  {
   "cell_type": "code",
   "execution_count": null,
   "id": "1bb4efbf-1ced-466d-8c53-af41177ad1e1",
   "metadata": {},
   "outputs": [],
   "source": []
  },
  {
   "cell_type": "code",
   "execution_count": null,
   "id": "d9338dc1-9ce6-4c97-a62c-ef39c629ad94",
   "metadata": {},
   "outputs": [],
   "source": []
  },
  {
   "cell_type": "code",
   "execution_count": null,
   "id": "22ab4447-954f-4587-9c9d-bc28be0855ac",
   "metadata": {},
   "outputs": [],
   "source": []
  }
 ],
 "metadata": {
  "kernelspec": {
   "display_name": "Python 3 (ipykernel)",
   "language": "python",
   "name": "python3"
  },
  "language_info": {
   "codemirror_mode": {
    "name": "ipython",
    "version": 3
   },
   "file_extension": ".py",
   "mimetype": "text/x-python",
   "name": "python",
   "nbconvert_exporter": "python",
   "pygments_lexer": "ipython3",
   "version": "3.12.2"
  }
 },
 "nbformat": 4,
 "nbformat_minor": 5
}
