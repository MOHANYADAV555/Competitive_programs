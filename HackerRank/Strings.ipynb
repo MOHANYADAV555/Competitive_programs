{
 "cells": [
  {
   "cell_type": "code",
   "execution_count": null,
   "id": "22ab4447-954f-4587-9c9d-bc28be0855ac",
   "metadata": {},
   "outputs": [],
   "source": [
    "'''\n",
    "Python has built-in string validation methods for basic data. It can check if a string is composed of alphabetical characters, alphanumeric characters, digits, etc.\n",
    "\n",
    "str.isalnum()\n",
    "This method checks if all the characters of a string are alphanumeric (a-z, A-Z and 0-9).\n",
    "\n",
    ">>> print 'ab123'.isalnum()\n",
    "True\n",
    ">>> print 'ab123#'.isalnum()\n",
    "False\n",
    "str.isalpha()\n",
    "This method checks if all the characters of a string are alphabetical (a-z and A-Z).\n",
    "\n",
    ">>> print 'abcD'.isalpha()\n",
    "True\n",
    ">>> print 'abcd1'.isalpha()\n",
    "False\n",
    "str.isdigit()\n",
    "This method checks if all the characters of a string are digits (0-9).\n",
    "\n",
    ">>> print '1234'.isdigit()\n",
    "True\n",
    ">>> print '123edsd'.isdigit()\n",
    "False\n",
    "str.islower()\n",
    "This method checks if all the characters of a string are lowercase characters (a-z).\n",
    "\n",
    ">>> print 'abcd123#'.islower()\n",
    "True\n",
    ">>> print 'Abcd123#'.islower()\n",
    "False\n",
    "str.isupper()\n",
    "This method checks if all the characters of a string are uppercase characters (A-Z).\n",
    "\n",
    ">>> print 'ABCD123#'.isupper()\n",
    "True\n",
    ">>> print 'Abcd123#'.isupper()\n",
    "False\n",
    "Task\n",
    "\n",
    "You are given a string S .\n",
    "Your task is to find out if the string S contains: alphanumeric characters, alphabetical characters, digits, lowercase and uppercase characters.\n",
    "\n",
    "Input Format\n",
    "\n",
    "A single line containing a string S .\n",
    "\n",
    "Constraints\n",
    "\n",
    "\n",
    "Output Format\n",
    "\n",
    "In the first line, print True if S has any alphanumeric characters. Otherwise, print False.\n",
    "In the second line, print True if S has any alphabetical characters. Otherwise, print False.\n",
    "In the third line, print True if S has any digits. Otherwise, print False.\n",
    "In the fourth line, print True if S has any lowercase characters. Otherwise, print False.\n",
    "In the fifth line, print True if S has any uppercase characters. Otherwise, print False.\n",
    "\n",
    "Sample Input\n",
    "\n",
    "qA2\n",
    "Sample Output\n",
    "\n",
    "True\n",
    "True\n",
    "True\n",
    "True\n",
    "True\n",
    "\n",
    "'''"
   ]
  },
  {
   "cell_type": "code",
   "execution_count": null,
   "id": "67af294a-385b-4b78-9da3-1918528a259b",
   "metadata": {},
   "outputs": [],
   "source": []
  },
  {
   "cell_type": "code",
   "execution_count": null,
   "id": "f0149b58-ccdf-4cad-9f2b-21a711b33268",
   "metadata": {},
   "outputs": [],
   "source": []
  },
  {
   "cell_type": "code",
   "execution_count": 8,
   "id": "05a46389-2984-4c5e-90e0-5c6d970714ce",
   "metadata": {},
   "outputs": [
    {
     "data": {
      "text/plain": [
       "'\\nThe any() function returns True if any item in an iterable are true, \\notherwise it returns False.\\n\\nIf the iterable object is empty, the any() function will return False.\\n\\n'"
      ]
     },
     "execution_count": 8,
     "metadata": {},
     "output_type": "execute_result"
    }
   ],
   "source": [
    "'''\n",
    "The any() function returns True if any item in an iterable are true, \n",
    "otherwise it returns False.\n",
    "\n",
    "If the iterable object is empty, the any() function will return False.\n",
    "\n",
    "'''"
   ]
  },
  {
   "cell_type": "code",
   "execution_count": 9,
   "id": "debf0f04-ba0f-46c0-a346-0df203a4ee81",
   "metadata": {},
   "outputs": [
    {
     "name": "stdin",
     "output_type": "stream",
     "text": [
      " qa2\n"
     ]
    },
    {
     "name": "stdout",
     "output_type": "stream",
     "text": [
      "True\n",
      "True\n",
      "True\n",
      "True\n",
      "False\n"
     ]
    }
   ],
   "source": [
    "s = input().strip()\n",
    "\n",
    "# Check if the string has any alphanumeric characters\n",
    "print(any(c.isalnum() for c in s))\n",
    "\n",
    "# Check if the string has any alphabetical characters\n",
    "print(any(c.isalpha() for c in s))\n",
    "\n",
    "# Check if the string has any digits\n",
    "print(any(c.isdigit() for c in s))\n",
    "\n",
    "# Check if the string has any lowercase characters\n",
    "print(any(c.islower() for c in s))\n",
    "\n",
    "# Check if the string has any uppercase characters\n",
    "print(any(c.isupper() for c in s))\n"
   ]
  },
  {
   "cell_type": "code",
   "execution_count": null,
   "id": "bfb793da-4ac1-40e8-9c90-c5d61d8237b5",
   "metadata": {},
   "outputs": [],
   "source": []
  }
 ],
 "metadata": {
  "kernelspec": {
   "display_name": "Python 3 (ipykernel)",
   "language": "python",
   "name": "python3"
  },
  "language_info": {
   "codemirror_mode": {
    "name": "ipython",
    "version": 3
   },
   "file_extension": ".py",
   "mimetype": "text/x-python",
   "name": "python",
   "nbconvert_exporter": "python",
   "pygments_lexer": "ipython3",
   "version": "3.12.2"
  }
 },
 "nbformat": 4,
 "nbformat_minor": 5
}
