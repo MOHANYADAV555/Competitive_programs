{
 "cells": [
  {
   "cell_type": "markdown",
   "id": "18f839e4-0ca9-4797-a1c1-6bc1a6e3c2ab",
   "metadata": {},
   "source": [
    "# Method-1"
   ]
  },
  {
   "cell_type": "code",
   "execution_count": 1,
   "id": "d081d60b-be99-4ba2-b421-129524ff3359",
   "metadata": {},
   "outputs": [
    {
     "name": "stdin",
     "output_type": "stream",
     "text": [
      " 5\n"
     ]
    },
    {
     "name": "stdout",
     "output_type": "stream",
     "text": [
      "Prime Number\n"
     ]
    }
   ],
   "source": [
    "# prime numbers\n",
    "# prime number having 1 and itself factors\n",
    "num = int(input())\n",
    "for i in range(2,num):\n",
    "    if num%i==0: # here my num is 7 : 7/2,7/3,7/4,7/5,7/6 here no not divisible\n",
    "        print(\"Not a Prime Number\")\n",
    "        break\n",
    "else:\n",
    "    print(\"Prime Number\")"
   ]
  },
  {
   "cell_type": "code",
   "execution_count": 2,
   "id": "379163bc-14a1-4b72-9294-bdec34884116",
   "metadata": {},
   "outputs": [
    {
     "data": {
      "text/plain": [
       "1"
      ]
     },
     "execution_count": 2,
     "metadata": {},
     "output_type": "execute_result"
    }
   ],
   "source": [
    "7%2   #2*3=6  remaining 1 is there not 0"
   ]
  },
  {
   "cell_type": "markdown",
   "id": "de1cdb88-f681-4919-8925-3d6e1cbd4dac",
   "metadata": {},
   "source": [
    "# Method-2"
   ]
  },
  {
   "cell_type": "code",
   "execution_count": 9,
   "id": "73945340-b4ad-4640-bb89-d79923d1db96",
   "metadata": {},
   "outputs": [
    {
     "name": "stdin",
     "output_type": "stream",
     "text": [
      " 7\n"
     ]
    },
    {
     "name": "stdout",
     "output_type": "stream",
     "text": [
      "7 is prime\n"
     ]
    }
   ],
   "source": [
    "number = int(input())\n",
    "count = 0\n",
    "for i in range(1,number+1):\n",
    "    if number%i==0:  # here my num is 3 = 3/1,3/2,3/3 = 3/1,3/3 goes zero my count is = 2\n",
    "        count+=1# i am declaring prime number\n",
    "if count == 2:\n",
    "    print(number,\"is prime\")\n",
    "else:\n",
    "    print(number,\"is not a prime\")\n",
    "    \n",
    "    "
   ]
  },
  {
   "cell_type": "code",
   "execution_count": null,
   "id": "5a7b2c72-5d8c-441e-b6cd-c2b156f843e8",
   "metadata": {},
   "outputs": [],
   "source": []
  },
  {
   "cell_type": "code",
   "execution_count": 4,
   "id": "5a7f7327-5676-4795-97d7-583353fede21",
   "metadata": {},
   "outputs": [],
   "source": [
    "# Range of Prime Numbers"
   ]
  },
  {
   "cell_type": "code",
   "execution_count": 5,
   "id": "44e51aa9-ca12-40b1-b530-7731889a7d5c",
   "metadata": {},
   "outputs": [
    {
     "name": "stdout",
     "output_type": "stream",
     "text": [
      "1 is a Composite Number\n",
      "2 is a Prime Number\n",
      "3 is a Prime Number\n",
      "4 is a Composite Number\n",
      "5 is a Prime Number\n",
      "6 is a Composite Number\n",
      "7 is a Prime Number\n",
      "8 is a Composite Number\n",
      "9 is a Composite Number\n",
      "10 is a Composite Number\n",
      "11 is a Prime Number\n",
      "12 is a Composite Number\n",
      "13 is a Prime Number\n",
      "14 is a Composite Number\n",
      "15 is a Composite Number\n",
      "16 is a Composite Number\n",
      "17 is a Prime Number\n",
      "18 is a Composite Number\n",
      "19 is a Prime Number\n",
      "20 is a Composite Number\n",
      "21 is a Composite Number\n",
      "22 is a Composite Number\n",
      "23 is a Prime Number\n",
      "24 is a Composite Number\n",
      "25 is a Composite Number\n",
      "26 is a Composite Number\n",
      "27 is a Composite Number\n",
      "28 is a Composite Number\n",
      "29 is a Prime Number\n",
      "30 is a Composite Number\n",
      "31 is a Prime Number\n",
      "32 is a Composite Number\n",
      "33 is a Composite Number\n",
      "34 is a Composite Number\n",
      "35 is a Composite Number\n",
      "36 is a Composite Number\n",
      "37 is a Prime Number\n",
      "38 is a Composite Number\n",
      "39 is a Composite Number\n",
      "40 is a Composite Number\n",
      "41 is a Prime Number\n",
      "42 is a Composite Number\n",
      "43 is a Prime Number\n",
      "44 is a Composite Number\n",
      "45 is a Composite Number\n",
      "46 is a Composite Number\n",
      "47 is a Prime Number\n",
      "48 is a Composite Number\n",
      "49 is a Composite Number\n",
      "50 is a Composite Number\n",
      "51 is a Composite Number\n",
      "52 is a Composite Number\n",
      "53 is a Prime Number\n",
      "54 is a Composite Number\n",
      "55 is a Composite Number\n",
      "56 is a Composite Number\n",
      "57 is a Composite Number\n",
      "58 is a Composite Number\n",
      "59 is a Prime Number\n",
      "60 is a Composite Number\n",
      "61 is a Prime Number\n",
      "62 is a Composite Number\n",
      "63 is a Composite Number\n",
      "64 is a Composite Number\n",
      "65 is a Composite Number\n",
      "66 is a Composite Number\n",
      "67 is a Prime Number\n",
      "68 is a Composite Number\n",
      "69 is a Composite Number\n",
      "70 is a Composite Number\n",
      "71 is a Prime Number\n",
      "72 is a Composite Number\n",
      "73 is a Prime Number\n",
      "74 is a Composite Number\n",
      "75 is a Composite Number\n",
      "76 is a Composite Number\n",
      "77 is a Composite Number\n",
      "78 is a Composite Number\n",
      "79 is a Prime Number\n",
      "80 is a Composite Number\n",
      "81 is a Composite Number\n",
      "82 is a Composite Number\n",
      "83 is a Prime Number\n",
      "84 is a Composite Number\n",
      "85 is a Composite Number\n",
      "86 is a Composite Number\n",
      "87 is a Composite Number\n",
      "88 is a Composite Number\n",
      "89 is a Prime Number\n",
      "90 is a Composite Number\n",
      "91 is a Composite Number\n",
      "92 is a Composite Number\n",
      "93 is a Composite Number\n",
      "94 is a Composite Number\n",
      "95 is a Composite Number\n",
      "96 is a Composite Number\n",
      "97 is a Prime Number\n",
      "98 is a Composite Number\n",
      "99 is a Composite Number\n",
      "100 is a Composite Number\n"
     ]
    }
   ],
   "source": [
    "prime_sum = 0\n",
    "composite_sum=0\n",
    "for i in range(1,101):\n",
    "    count = 0\n",
    "    for j in range(1,i+1):\n",
    "        if i%j==0:\n",
    "            count+=1\n",
    "    if count == 2:\n",
    "        print(i,\"is a Prime Number\")\n",
    "        prime_sum+=1\n",
    "    else:\n",
    "        print(i,\"is a Composite Number\")\n",
    "        composite_sum+=1"
   ]
  },
  {
   "cell_type": "code",
   "execution_count": 6,
   "id": "c8e46a46-6f88-4a53-b660-47cad84f61db",
   "metadata": {},
   "outputs": [
    {
     "name": "stdout",
     "output_type": "stream",
     "text": [
      "25\n"
     ]
    }
   ],
   "source": [
    "print(prime_sum)"
   ]
  },
  {
   "cell_type": "code",
   "execution_count": 7,
   "id": "cb359047-518b-4e3f-bc75-dc9155f8a7f9",
   "metadata": {},
   "outputs": [
    {
     "name": "stdout",
     "output_type": "stream",
     "text": [
      "75\n"
     ]
    }
   ],
   "source": [
    "print(composite_sum)"
   ]
  },
  {
   "cell_type": "code",
   "execution_count": null,
   "id": "f7765970-89f8-42bb-a1bb-c195b23a8259",
   "metadata": {},
   "outputs": [],
   "source": []
  },
  {
   "cell_type": "markdown",
   "id": "bbac47ca-5389-4971-9ec2-3c4ae5b2eb28",
   "metadata": {},
   "source": [
    "# Method - 3"
   ]
  },
  {
   "cell_type": "code",
   "execution_count": 12,
   "id": "016d4912-aadb-4c87-82ff-88ad41575a35",
   "metadata": {},
   "outputs": [
    {
     "name": "stdout",
     "output_type": "stream",
     "text": [
      "[2, 3, 5, 7, 11, 13, 17, 19, 23, 29, 31, 37, 41, 43, 47, 53, 59, 61, 67, 71, 73, 79, 83, 89, 97]\n"
     ]
    }
   ],
   "source": [
    "a = list(range(2,101))\n",
    "new = []\n",
    "\n",
    "for i in a:\n",
    "      prime = True\n",
    "      for j in range(2,i):\n",
    "          if i % j == 0:\n",
    "              prime = False\n",
    "              break\n",
    "      if prime:\n",
    "          new.append(i)\n",
    "\n",
    "print(new)"
   ]
  },
  {
   "cell_type": "code",
   "execution_count": 17,
   "id": "29fba6e4-0894-4eeb-bd14-9dae1a5bfcc0",
   "metadata": {},
   "outputs": [
    {
     "name": "stdout",
     "output_type": "stream",
     "text": [
      "25\n"
     ]
    }
   ],
   "source": [
    "a = list(range(2,101))\n",
    "new=[]\n",
    "for i in a:\n",
    "    prime = True\n",
    "    for j in range(2,i):\n",
    "        if i%j==0:\n",
    "            prime = False\n",
    "            break\n",
    "    if prime:\n",
    "        new.append(i)\n",
    "print(len(new))"
   ]
  },
  {
   "cell_type": "code",
   "execution_count": null,
   "id": "981b94fa-e94c-41b1-879f-44f1a59bcca4",
   "metadata": {},
   "outputs": [],
   "source": []
  }
 ],
 "metadata": {
  "kernelspec": {
   "display_name": "Python 3 (ipykernel)",
   "language": "python",
   "name": "python3"
  },
  "language_info": {
   "codemirror_mode": {
    "name": "ipython",
    "version": 3
   },
   "file_extension": ".py",
   "mimetype": "text/x-python",
   "name": "python",
   "nbconvert_exporter": "python",
   "pygments_lexer": "ipython3",
   "version": "3.12.2"
  }
 },
 "nbformat": 4,
 "nbformat_minor": 5
}
